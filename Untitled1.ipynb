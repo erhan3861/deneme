{
 "cells": [
  {
   "cell_type": "code",
   "execution_count": null,
   "id": "2d7da0c8",
   "metadata": {},
   "outputs": [
    {
     "name": "stdout",
     "output_type": "stream",
     "text": [
      "\n",
      "(1) Bakıye Sorma \n",
      "(2) Para Çekme \n",
      "(3) Para Yatırma \n",
      "(4) Çıkış\n",
      "\n",
      "Lütfen işlem seçiniz: 1\n",
      "Bakiye: 1000\n"
     ]
    }
   ],
   "source": [
    "print(\"\"\"\n",
    "(1) Bakıye Sorma \n",
    "(2) Para Çekme \n",
    "(3) Para Yatırma \n",
    "(4) Çıkış\n",
    "\"\"\")\n",
    "bakiye = 1000\n",
    "while True:\n",
    "    islem = input(\"Lütfen işlem seçiniz: \")\n",
    "    if islem == \"q\":\n",
    "        print(\"İyi Günler Dileriz..\")\n",
    "        break\n",
    "    elif(islem == \"1\"):\n",
    "\n",
    "        print(\"Bakiye: {}\".format(bakiye))\n",
    "    elif(islem==\"2\"):\n",
    "        tutar = int(input(\"Ne kadar çekmek istiyorsunuz: \"))\n",
    "\n",
    "        if(bakiye - tutar < 0 ): \n",
    "            print(\"Yetersiz bAKİYE...\")\n",
    "            continue\n",
    "        bakiye -= tutar \n",
    "\n",
    "    elif(islem == \"3\"):\n",
    "        tutar = int( input(\"Nekadar para yatırmak istiyorsunuz: \"))\n",
    "        bakiye = bakiye+ tutar\n",
    "        print(\"Yeni bakiyeniz:{}\".format(bakiye))\n",
    "    else:\n",
    "        print(\"Geçersiz işlem girdiniz..!\")\n"
   ]
  },
  {
   "cell_type": "code",
   "execution_count": null,
   "id": "1bf70054",
   "metadata": {},
   "outputs": [],
   "source": []
  }
 ],
 "metadata": {
  "kernelspec": {
   "display_name": "Python 3 (ipykernel)",
   "language": "python",
   "name": "python3"
  },
  "language_info": {
   "codemirror_mode": {
    "name": "ipython",
    "version": 3
   },
   "file_extension": ".py",
   "mimetype": "text/x-python",
   "name": "python",
   "nbconvert_exporter": "python",
   "pygments_lexer": "ipython3",
   "version": "3.9.12"
  }
 },
 "nbformat": 4,
 "nbformat_minor": 5
}
